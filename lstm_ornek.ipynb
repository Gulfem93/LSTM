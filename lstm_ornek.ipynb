{
 "cells": [
  {
   "cell_type": "code",
   "execution_count": 53,
   "source": [
    "import tensorflow as tf\r\n",
    "from tensorflow.keras import Sequential\r\n",
    "from tensorflow.keras.layers import Dense, Dropout, LSTM"
   ],
   "outputs": [],
   "metadata": {}
  },
  {
   "cell_type": "code",
   "execution_count": 54,
   "source": [
    "mnist = tf.keras.datasets.mnist"
   ],
   "outputs": [],
   "metadata": {}
  },
  {
   "cell_type": "code",
   "execution_count": 55,
   "source": [
    "(x_train, y_train), (x_test, y_test) = mnist.load_data()"
   ],
   "outputs": [],
   "metadata": {}
  },
  {
   "cell_type": "code",
   "execution_count": 56,
   "source": [
    "x_train = x_train/255\r\n",
    "x_test = x_test/255"
   ],
   "outputs": [],
   "metadata": {}
  },
  {
   "cell_type": "code",
   "execution_count": 57,
   "source": [
    "model = Sequential()"
   ],
   "outputs": [],
   "metadata": {}
  },
  {
   "cell_type": "code",
   "execution_count": 58,
   "source": [
    "model.add(LSTM(128, input_shape = (x_train.shape[1:]), activation = \"relu\", return_sequences = True))\r\n",
    "model.add(Dropout(0.2))\r\n",
    "\r\n",
    "model.add(LSTM(128, activation = \"relu\"))\r\n",
    "model.add(Dropout(0.2))\r\n",
    "\r\n",
    "model.add(Dense(32, activation = \"relu\"))\r\n",
    "model.add(Dropout(0.2))\r\n",
    "\r\n",
    "model.add(Dense(10, activation = \"softmax\"))"
   ],
   "outputs": [],
   "metadata": {}
  },
  {
   "cell_type": "code",
   "execution_count": 59,
   "source": [
    "opt = tf.keras.optimizers.Adam(lr = 1e-3, decay = 1e-5)"
   ],
   "outputs": [],
   "metadata": {}
  },
  {
   "cell_type": "markdown",
   "source": [
    "Model sequence error"
   ],
   "metadata": {}
  },
  {
   "cell_type": "code",
   "execution_count": 70,
   "source": [
    "model.compile(loss = \"sparse_categorical_crossentropy\", optimizer = opt, metrics = [\"accuracy\"])\r\n"
   ],
   "outputs": [],
   "metadata": {}
  },
  {
   "cell_type": "code",
   "execution_count": 71,
   "source": [
    "model.summary()"
   ],
   "outputs": [
    {
     "output_type": "stream",
     "name": "stdout",
     "text": [
      "Model: \"sequential_3\"\n",
      "_________________________________________________________________\n",
      "Layer (type)                 Output Shape              Param #   \n",
      "=================================================================\n",
      "lstm_13 (LSTM)               (None, 28, 128)           80384     \n",
      "_________________________________________________________________\n",
      "dropout_9 (Dropout)          (None, 28, 128)           0         \n",
      "_________________________________________________________________\n",
      "lstm_14 (LSTM)               (None, 128)               131584    \n",
      "_________________________________________________________________\n",
      "dropout_10 (Dropout)         (None, 128)               0         \n",
      "_________________________________________________________________\n",
      "dense_4 (Dense)              (None, 32)                4128      \n",
      "_________________________________________________________________\n",
      "dropout_11 (Dropout)         (None, 32)                0         \n",
      "_________________________________________________________________\n",
      "dense_5 (Dense)              (None, 10)                330       \n",
      "=================================================================\n",
      "Total params: 216,426\n",
      "Trainable params: 216,426\n",
      "Non-trainable params: 0\n",
      "_________________________________________________________________\n"
     ]
    }
   ],
   "metadata": {}
  },
  {
   "cell_type": "code",
   "execution_count": 72,
   "source": [
    "model.fit(x_train, y_train, epochs = 3, validation_data = (x_test, y_test))"
   ],
   "outputs": [
    {
     "output_type": "stream",
     "name": "stdout",
     "text": [
      "Epoch 1/3\n",
      "1875/1875 [==============================] - 175s 93ms/step - loss: 0.6859 - accuracy: 0.7727 - val_loss: 0.1473 - val_accuracy: 0.9558\n",
      "Epoch 2/3\n",
      "1875/1875 [==============================] - 175s 93ms/step - loss: 0.1744 - accuracy: 0.9536 - val_loss: 0.0890 - val_accuracy: 0.9757\n",
      "Epoch 3/3\n",
      "1875/1875 [==============================] - 178s 95ms/step - loss: 0.1171 - accuracy: 0.9694 - val_loss: 0.0778 - val_accuracy: 0.9782\n"
     ]
    },
    {
     "output_type": "execute_result",
     "data": {
      "text/plain": [
       "<tensorflow.python.keras.callbacks.History at 0x26cd88f70a0>"
      ]
     },
     "metadata": {},
     "execution_count": 72
    }
   ],
   "metadata": {}
  },
  {
   "cell_type": "code",
   "execution_count": 74,
   "source": [
    "scores = model.evaluate(x_train, y_train, verbose=1)\r\n",
    "print('Accurracy: ', scores)"
   ],
   "outputs": [
    {
     "output_type": "stream",
     "name": "stdout",
     "text": [
      "1875/1875 [==============================] - 61s 33ms/step - loss: 0.0747 - accuracy: 0.9794\n",
      "Accurracy:  [0.0746966004371643, 0.9793999791145325]\n"
     ]
    }
   ],
   "metadata": {}
  }
 ],
 "metadata": {
  "orig_nbformat": 4,
  "language_info": {
   "name": "python",
   "version": "3.8.3",
   "mimetype": "text/x-python",
   "codemirror_mode": {
    "name": "ipython",
    "version": 3
   },
   "pygments_lexer": "ipython3",
   "nbconvert_exporter": "python",
   "file_extension": ".py"
  },
  "kernelspec": {
   "name": "python3",
   "display_name": "Python 3.8.3 64-bit (system)"
  },
  "interpreter": {
   "hash": "5f0bb6782d820ce74cd5b25d5d8cc1c25414ed53baf7bfe7559a1c1f0a5d3bc0"
  }
 },
 "nbformat": 4,
 "nbformat_minor": 2
}